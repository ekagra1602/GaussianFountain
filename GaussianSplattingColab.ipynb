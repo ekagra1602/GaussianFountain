{
  "nbformat": 4,
  "nbformat_minor": 0,
  "metadata": {
    "colab": {
      "provenance": [],
      "gpuType": "A100",
      "machine_shape": "hm"
    },
    "kernelspec": {
      "name": "python3",
      "display_name": "Python 3"
    },
    "language_info": {
      "name": "python"
    },
    "accelerator": "GPU"
  },
  "cells": [
    {
      "cell_type": "markdown",
      "source": [
        "### **Gaussian Splatting for Hayden Library Lantern**"
      ],
      "metadata": {
        "id": "2Rs5GxZCQxZd"
      }
    },
    {
      "cell_type": "code",
      "source": [
        "!git clone https://github.com/ekagra1602/gaussian-splatting-spectral\n",
        "%cd gaussian-splatting-spectral"
      ],
      "metadata": {
        "id": "2l90EMQGtBnj"
      },
      "execution_count": null,
      "outputs": []
    },
    {
      "cell_type": "code",
      "source": [
        "!pip install -r requirements.txt\n",
        "!apt-get -qq update && apt-get -qq install -y ffmpeg"
      ],
      "metadata": {
        "id": "Y6k7WeHdN-7-"
      },
      "execution_count": null,
      "outputs": []
    },
    {
      "cell_type": "markdown",
      "source": [
        "**Prep Dataset**"
      ],
      "metadata": {
        "id": "R2qR3D8esnCR"
      }
    },
    {
      "cell_type": "code",
      "source": [
        "Renew Dataset\n",
        "!rm -rf {/content/gaussian-splatting-spectral/lantern_ds_full}"
      ],
      "metadata": {
        "id": "B5XqcnxHXsLq"
      },
      "execution_count": null,
      "outputs": []
    },
    {
      "cell_type": "code",
      "source": [
        "%cd /content/gaussian-splatting-spectral\n",
        "!python scripts/dataset_prep.py \\\n",
        "  --video /content/Lantern_Video_From_Above.mp4 \\\n",
        "  --out lantern_ds_full \\\n",
        "  --target_frames 70 \\\n",
        "  --min_sharpness 70 \\\n",
        "  --width 1600"
      ],
      "metadata": {
        "id": "78xjg5plOBsv"
      },
      "execution_count": null,
      "outputs": []
    },
    {
      "cell_type": "markdown",
      "source": [
        "## **Run VGGT to predict camera poses, depth**"
      ],
      "metadata": {
        "id": "w3Dz-bZ8sqYG"
      }
    },
    {
      "cell_type": "code",
      "source": [
        "!git clone https://github.com/facebookresearch/vggt.git /content/vggt\n",
        "%cd /content/vggt\n",
        "!python -c \"import vggt; print('VGGT installed!')\""
      ],
      "metadata": {
        "id": "BYwzPRhUceY_"
      },
      "execution_count": null,
      "outputs": []
    },
    {
      "cell_type": "code",
      "source": [
        "pip install -r requirements_demo.txt"
      ],
      "metadata": {
        "id": "KkIQtmmkUfMS"
      },
      "execution_count": null,
      "outputs": []
    },
    {
      "cell_type": "code",
      "source": [
        "!python /content/vggt/demo_colmap.py \\\n",
        "  --scene_dir=/content/gaussian-splatting-spectral/lantern_ds_full \\\n",
        "  --use_ba \\\n",
        "  --query_frame_num=8 \\\n",
        "  --max_query_pts=3072 \\\n",
        "  --fine_tracking \\\n",
        "  --vis_thresh=0.2"
      ],
      "metadata": {
        "id": "edbJVEUgcriD"
      },
      "execution_count": null,
      "outputs": []
    },
    {
      "cell_type": "markdown",
      "source": [
        "## **Restore Session**"
      ],
      "metadata": {
        "id": "as1nP7-_sckm"
      }
    },
    {
      "cell_type": "code",
      "source": [
        "# restore_session.py - Start of every new session\n",
        "import os\n",
        "from google.colab import drive\n",
        "\n",
        "print(\"🔄 Restoring session...\")\n",
        "\n",
        "# 1. Mount Google Drive\n",
        "drive.mount('/content/drive')\n",
        "\n",
        "# 2. Smart repo handling\n",
        "REPO_URL = \"https://github.com/ekagra1602/gaussian-splatting-spectral\"\n",
        "REPO_DIR = \"/content/gaussian-splatting-spectral\"\n",
        "\n",
        "if not os.path.exists(REPO_DIR):\n",
        "    print(\"📥 Cloning repository (first time)...\")\n",
        "    !git clone {REPO_URL}\n",
        "else:\n",
        "    print(\"✅ Repository exists, pulling latest changes...\")\n",
        "    %cd {REPO_DIR}\n",
        "    !git pull origin main || echo \"⚠️  Pull failed (maybe no internet or no changes)\"\n",
        "\n",
        "%cd {REPO_DIR}\n",
        "\n",
        "# 3. Restore dataset from Google Drive backup\n",
        "print(\"📦 Restoring lantern_ds dataset...\")\n",
        "if os.path.exists('/content/drive/MyDrive/GaussianSplatting_Backup/lantern_ds'):\n",
        "    !cp -r /content/drive/MyDrive/GaussianSplatting_Backup/lantern_ds {REPO_DIR}/\n",
        "    print(\"✅ Dataset restored from Drive\")\n",
        "else:\n",
        "    print(\"❌ Backup not found in Drive! Check your backup location.\")\n",
        "\n",
        "# 4. Reinstall dependencies\n",
        "print(\"📚 Installing dependencies...\")\n",
        "!pip install -q hydra-core omegaconf pycolmap==3.10.0\n",
        "\n",
        "# 5. Comprehensive verification\n",
        "print(\"\\n🔍 Verification:\")\n",
        "checks = {\n",
        "    \"Repository\": os.path.exists(REPO_DIR),\n",
        "    \"lantern_ds\": os.path.exists(f\"{REPO_DIR}/lantern_ds\"),\n",
        "    \"images\": os.path.exists(f\"{REPO_DIR}/lantern_ds/images\"),\n",
        "    \"sparse\": os.path.exists(f\"{REPO_DIR}/lantern_ds/sparse\"),\n",
        "    \"COLMAP files\": os.path.exists(f\"{REPO_DIR}/lantern_ds/sparse/cameras.bin\")\n",
        "}\n",
        "\n",
        "for item, exists in checks.items():\n",
        "    status = \"✅\" if exists else \"❌\"\n",
        "    print(f\"  {status} {item}\")\n",
        "\n",
        "if checks[\"sparse\"]:\n",
        "    sparse_files = os.listdir(f\"{REPO_DIR}/lantern_ds/sparse/\")\n",
        "    print(f\"\\n📁 Sparse folder contains: {sparse_files}\")\n",
        "\n",
        "print(f\"\\n📂 Working directory: {os.getcwd()}\")\n",
        "print(\"\\n🚀 Session fully restored! Ready to continue.\")"
      ],
      "metadata": {
        "id": "li4m1zIvlwaR"
      },
      "execution_count": null,
      "outputs": []
    },
    {
      "cell_type": "markdown",
      "source": [
        "### Backup Session"
      ],
      "metadata": {
        "id": "pAWFOP1J7I76"
      }
    },
    {
      "cell_type": "code",
      "source": [
        "# 💾 BACKUP CELL\n",
        "from google.colab import drive\n",
        "import os\n",
        "\n",
        "# Mount Drive (safe to run multiple times)\n",
        "drive.mount('/content/drive')\n",
        "\n",
        "WORK_DIR = \"/content/GaussianSplatting/lantern_ds\"\n",
        "BACKUP_DIR = \"/content/drive/MyDrive/gaussian-splatting-spectral_backup\"\n",
        "\n",
        "print(\"💾 Starting backup...\")\n",
        "\n",
        "# Create backup directory\n",
        "!mkdir -p {BACKUP_DIR}\n",
        "\n",
        "# Sync with progress\n",
        "!rsync -av --progress {WORK_DIR}/ {BACKUP_DIR}/lantern_ds/\n",
        "\n",
        "# Show what was backed up\n",
        "print(\"\\n📊 Backup Summary:\")\n",
        "!du -sh {BACKUP_DIR}/lantern_ds/\n",
        "print(f\"📁 Backed up to: {BACKUP_DIR}/lantern_ds/\")\n",
        "\n",
        "# List major folders\n",
        "print(\"\\n📂 Backed up folders:\")\n",
        "for folder in ['images', 'sparse', 'outputs', 'checkpoints']:\n",
        "    folder_path = f\"{BACKUP_DIR}/lantern_ds/{folder}\"\n",
        "    if os.path.exists(folder_path):\n",
        "        size = !du -sh {folder_path} | cut -f1\n",
        "        print(f\"  ✅ {folder}: {size[0]}\")\n",
        "    else:\n",
        "        print(f\"  ⚪ {folder}: (not yet created)\")\n",
        "\n",
        "print(\"\\n✅ Backup complete! Safe to disconnect.\")"
      ],
      "metadata": {
        "id": "ISbQBam7oBax"
      },
      "execution_count": null,
      "outputs": []
    },
    {
      "cell_type": "markdown",
      "source": [
        "# **Run Gaussian Spplatting on output from VGGT**"
      ],
      "metadata": {
        "id": "nrcnfH4etPyH"
      }
    },
    {
      "cell_type": "code",
      "source": [
        "# Install gsplat (recommended version from VGGT docs)\n",
        "!pip install gsplat\n",
        "\n",
        "# Install additional dependencies\n",
        "!pip install \\\n",
        "  opencv-python \\\n",
        "  pillow \\\n",
        "  tqdm \\\n",
        "  lpips \\\n",
        "  trimesh \\\n",
        "  plyfile\n",
        "\n",
        "print(\"✅ gsplat installed!\")"
      ],
      "metadata": {
        "id": "JSIKgkN7tW-O"
      },
      "execution_count": null,
      "outputs": []
    },
    {
      "cell_type": "code",
      "source": [
        "# Clone gsplat repo to get example training scripts\n",
        "%cd /content\n",
        "!git clone https://github.com/nerfstudio-project/gsplat.git\n",
        "%cd gsplat\n",
        "\n",
        "# Install example requirements\n",
        "!pip install -r examples/requirements.txt\n",
        "\n",
        "print(\"✅ gsplat repo cloned!\")"
      ],
      "metadata": {
        "id": "J5-Rtdobtkfj"
      },
      "execution_count": null,
      "outputs": []
    },
    {
      "cell_type": "code",
      "source": [
        "#Create 0 directory\n",
        "import os\n",
        "import shutil\n",
        "\n",
        "# Create the 0 subdirectory\n",
        "sparse_dir = \"/content/gaussian-splatting-spectral/lantern_ds_full/sparse\"\n",
        "sparse_0_dir = f\"{sparse_dir}/0\"\n",
        "\n",
        "os.makedirs(sparse_0_dir, exist_ok=True)\n",
        "\n",
        "# Move all .bin and .ply files into 0/\n",
        "for file in os.listdir(sparse_dir):\n",
        "    if file.endswith(('.bin', '.ply')):\n",
        "        src = f\"{sparse_dir}/{file}\"\n",
        "        dst = f\"{sparse_0_dir}/{file}\"\n",
        "        shutil.move(src, dst)\n",
        "        print(f\"Moved: {file} → sparse/0/{file}\")\n",
        "\n",
        "print(\"\\n✅ Dataset structure fixed!\")"
      ],
      "metadata": {
        "id": "S9J1amfYv8Mm"
      },
      "execution_count": null,
      "outputs": []
    },
    {
      "cell_type": "code",
      "source": [
        "!echo \"=== Checking dataset structure ===\"\n",
        "!ls -lh /content/gaussian-splatting-spectral/lantern_ds/\n",
        "!echo \"\"\n",
        "!ls -lh /content/gaussian-splatting-spectral/lantern_ds/sparse/0/\n",
        "!echo \"\"\n",
        "!ls /content/gaussian-splatting-spectral/lantern_ds/images/ | head -5"
      ],
      "metadata": {
        "id": "jRfR-aNVvgn9"
      },
      "execution_count": null,
      "outputs": []
    },
    {
      "cell_type": "markdown",
      "source": [
        "### **Ignore**"
      ],
      "metadata": {
        "id": "8aLMHEhmXKwH"
      }
    },
    {
      "cell_type": "code",
      "source": [
        "# Create the missing __init__.py file\n",
        "!touch /content/gsplat/examples/datasets/__init__.py\n",
        "\n",
        "print(\"Created __init__.py in datasets/\")"
      ],
      "metadata": {
        "id": "tupwZDxIwPFU"
      },
      "execution_count": null,
      "outputs": []
    },
    {
      "cell_type": "code",
      "source": [
        "# Uninstall old version\n",
        "!pip uninstall -y gsplat\n",
        "\n",
        "# Install latest version\n",
        "!pip install gsplat\n",
        "\n",
        "print(\"✅ gsplat upgraded to latest version\")"
      ],
      "metadata": {
        "id": "WIR22JApxIvJ"
      },
      "execution_count": null,
      "outputs": []
    },
    {
      "cell_type": "code",
      "source": [
        "%cd /content/gsplat/examples\n",
        "\n",
        "!python simple_trainer.py default \\\n",
        "  --data_dir /content/GaussianSplatting/lantern_ds \\\n",
        "  --result_dir /content/GaussianSplatting/results/lantern_baseline \\\n",
        "  --data_factor 1 \\\n",
        "  --max_steps 10000 \\\n",
        "  --save_ply"
      ],
      "metadata": {
        "id": "L2_YFtmsw7VO"
      },
      "execution_count": null,
      "outputs": []
    },
    {
      "cell_type": "code",
      "source": [
        "!echo \"=== PLY Files ===\"\n",
        "!ls -lh /content/GaussianSplatting/results/lantern_baseline/ply/\n",
        "\n",
        "!echo \"\"\n",
        "!echo \"=== Rendered Videos ===\"\n",
        "!ls -lh /content/GaussianSplatting/results/lantern_baseline/videos/"
      ],
      "metadata": {
        "id": "EGy9FQGnywOp"
      },
      "execution_count": null,
      "outputs": []
    },
    {
      "cell_type": "code",
      "source": [
        "#Download PLY File\n",
        "from google.colab import files\n",
        "files.download(\"/content/GaussianSplatting/results/lantern_spectral_30k/final.pt\")"
      ],
      "metadata": {
        "id": "IwDsoYvCzEZe"
      },
      "execution_count": null,
      "outputs": []
    },
    {
      "cell_type": "code",
      "source": [
        "%cd /content/gsplat\n",
        "\n",
        "!python examples/simple_trainer.py default \\\n",
        "  --data_dir /content/gaussian-splatting-spectral/lantern_ds_full \\\n",
        "  --result_dir /content/results/lantern_baseline \\\n",
        "  --data-factor 1 \\\n",
        "  --max-steps 30000 \\\n",
        "  --save-ply \\\n",
        "  --disable-viewer \\\n",
        "  --sh-degree 3 \\\n",
        "  --sh-degree-interval 1000 \\\n",
        "  --init-opa 0.1 \\\n",
        "  --init-scale 1.0 \\\n",
        "  --ssim-lambda 0.2 \\\n",
        "  --random-bkgd \\\n",
        "  --strategy.refine-start-iter 500 \\\n",
        "  --strategy.refine-stop-iter 15000 \\\n",
        "  --strategy.reset-every 3000 \\\n",
        "  --strategy.refine-every 100 \\\n",
        "  --strategy.prune-opa 0.005 \\\n",
        "  --strategy.grow-grad2d 0.0002 \\\n",
        "  --strategy.grow-scale3d 0.01 \\\n",
        "  --strategy.prune-scale3d 0.1 \\\n",
        "  --strategy.prune-scale2d 0.15"
      ],
      "metadata": {
        "id": "AfBoMEDV6saE",
        "colab": {
          "base_uri": "https://localhost:8080/"
        },
        "outputId": "83d60715-e065-4115-9c2d-7accf4b0eee5"
      },
      "execution_count": null,
      "outputs": [
        {
          "output_type": "stream",
          "name": "stdout",
          "text": [
            "/content/gsplat\n",
            "2025-10-16 19:34:01.592801: I tensorflow/core/util/port.cc:153] oneDNN custom operations are on. You may see slightly different numerical results due to floating-point round-off errors from different computation orders. To turn them off, set the environment variable `TF_ENABLE_ONEDNN_OPTS=0`.\n",
            "2025-10-16 19:34:01.611191: E external/local_xla/xla/stream_executor/cuda/cuda_fft.cc:467] Unable to register cuFFT factory: Attempting to register factory for plugin cuFFT when one has already been registered\n",
            "WARNING: All log messages before absl::InitializeLog() is called are written to STDERR\n",
            "E0000 00:00:1760643241.635627   14148 cuda_dnn.cc:8579] Unable to register cuDNN factory: Attempting to register factory for plugin cuDNN when one has already been registered\n",
            "E0000 00:00:1760643241.642370   14148 cuda_blas.cc:1407] Unable to register cuBLAS factory: Attempting to register factory for plugin cuBLAS when one has already been registered\n",
            "W0000 00:00:1760643241.659462   14148 computation_placer.cc:177] computation placer already registered. Please check linkage and avoid linking the same target more than once.\n",
            "W0000 00:00:1760643241.659506   14148 computation_placer.cc:177] computation placer already registered. Please check linkage and avoid linking the same target more than once.\n",
            "W0000 00:00:1760643241.659510   14148 computation_placer.cc:177] computation placer already registered. Please check linkage and avoid linking the same target more than once.\n",
            "W0000 00:00:1760643241.659512   14148 computation_placer.cc:177] computation placer already registered. Please check linkage and avoid linking the same target more than once.\n",
            "2025-10-16 19:34:01.664594: I tensorflow/core/platform/cpu_feature_guard.cc:210] This TensorFlow binary is optimized to use available CPU instructions in performance-critical operations.\n",
            "To enable the following instructions: AVX2 AVX512F AVX512_VNNI FMA, in other operations, rebuild TensorFlow with the appropriate compiler flags.\n",
            "Warning: image_path not found for reconstruction\n",
            "[Parser] 70 images, taken by 70 cameras.\n",
            "Scene scale: 2.0655110598556554\n",
            "Model initialized. Number of GS: 22442\n",
            "Downloading: \"https://download.pytorch.org/models/alexnet-owt-7be5be79.pth\" to /root/.cache/torch/hub/checkpoints/alexnet-owt-7be5be79.pth\n",
            "100% 233M/233M [00:01<00:00, 223MB/s]\n",
            "  0% 0/30000 [00:00<?, ?it/s]W1016 19:34:14.820000 14148 torch/utils/cpp_extension.py:2425] TORCH_CUDA_ARCH_LIST is not set, all archs for visible cards are included for compilation. \n",
            "W1016 19:34:14.820000 14148 torch/utils/cpp_extension.py:2425] If this is not desired, please set os.environ['TORCH_CUDA_ARCH_LIST'] to specific architectures.\n",
            "loss=0.044| sh degree=0| :   2% 598/30000 [00:07<04:59, 98.18it/s]Step 600: 4427 GSs duplicated, 399 GSs split. Now having 27268 GSs.\n",
            "Step 600: 227 GSs pruned. Now having 27041 GSs.\n",
            "loss=0.055| sh degree=0| :   2% 691/30000 [00:08<05:30, 88.60it/s]Step 700: 5343 GSs duplicated, 463 GSs split. Now having 32847 GSs.\n",
            "Step 700: 56 GSs pruned. Now having 32791 GSs.\n",
            "loss=0.040| sh degree=0| :   3% 795/30000 [00:09<05:35, 87.05it/s]Step 800: 5831 GSs duplicated, 503 GSs split. Now having 39125 GSs.\n",
            "Step 800: 56 GSs pruned. Now having 39069 GSs.\n",
            "loss=0.041| sh degree=0| :   3% 899/30000 [00:11<05:40, 85.37it/s]Step 900: 5856 GSs duplicated, 566 GSs split. Now having 45491 GSs.\n",
            "Step 900: 48 GSs pruned. Now having 45443 GSs.\n",
            "loss=0.036| sh degree=1| :   3% 991/30000 [00:12<05:15, 92.07it/s]Step 1000: 6243 GSs duplicated, 642 GSs split. Now having 52328 GSs.\n",
            "Step 1000: 63 GSs pruned. Now having 52265 GSs.\n",
            "loss=0.039| sh degree=1| :   4% 1092/30000 [00:13<05:07, 93.90it/s]Step 1100: 6363 GSs duplicated, 635 GSs split. Now having 59263 GSs.\n",
            "Step 1100: 111 GSs pruned. Now having 59152 GSs.\n",
            "loss=0.024| sh degree=1| :   4% 1191/30000 [00:14<04:54, 97.91it/s]Step 1200: 6415 GSs duplicated, 678 GSs split. Now having 66245 GSs.\n",
            "Step 1200: 133 GSs pruned. Now having 66112 GSs.\n",
            "loss=0.033| sh degree=1| :   4% 1296/30000 [00:15<05:17, 90.29it/s]Step 1300: 6434 GSs duplicated, 679 GSs split. Now having 73225 GSs.\n",
            "Step 1300: 166 GSs pruned. Now having 73059 GSs.\n",
            "loss=0.019| sh degree=1| :   5% 1390/30000 [00:16<05:18, 89.96it/s]Step 1400: 6404 GSs duplicated, 739 GSs split. Now having 80202 GSs.\n",
            "Step 1400: 171 GSs pruned. Now having 80031 GSs.\n",
            "loss=0.024| sh degree=1| :   5% 1491/30000 [00:17<05:03, 93.86it/s]Step 1500: 6399 GSs duplicated, 859 GSs split. Now having 87289 GSs.\n",
            "Step 1500: 223 GSs pruned. Now having 87066 GSs.\n",
            "loss=0.016| sh degree=1| :   5% 1598/30000 [00:18<05:11, 91.30it/s]Step 1600: 6497 GSs duplicated, 893 GSs split. Now having 94456 GSs.\n",
            "Step 1600: 251 GSs pruned. Now having 94205 GSs.\n",
            "loss=0.019| sh degree=1| :   6% 1700/30000 [00:19<05:04, 92.85it/s]Step 1700: 6322 GSs duplicated, 929 GSs split. Now having 101456 GSs.\n",
            "Step 1700: 289 GSs pruned. Now having 101167 GSs.\n",
            "loss=0.033| sh degree=1| :   6% 1799/30000 [00:21<05:07, 91.60it/s]Step 1800: 6590 GSs duplicated, 969 GSs split. Now having 108726 GSs.\n",
            "Step 1800: 293 GSs pruned. Now having 108433 GSs.\n",
            "loss=0.018| sh degree=1| :   6% 1892/30000 [00:22<05:24, 86.56it/s]Step 1900: 6714 GSs duplicated, 976 GSs split. Now having 116123 GSs.\n",
            "Step 1900: 309 GSs pruned. Now having 115814 GSs.\n",
            "loss=0.017| sh degree=2| :   7% 1998/30000 [00:23<05:00, 93.16it/s]Step 2000: 6911 GSs duplicated, 898 GSs split. Now having 123623 GSs.\n",
            "Step 2000: 351 GSs pruned. Now having 123272 GSs.\n",
            "loss=0.014| sh degree=2| :   7% 2100/30000 [00:24<05:10, 89.94it/s]Step 2100: 6598 GSs duplicated, 830 GSs split. Now having 130700 GSs.\n",
            "Step 2100: 321 GSs pruned. Now having 130379 GSs.\n",
            "loss=0.017| sh degree=2| :   7% 2200/30000 [00:25<05:29, 84.46it/s]Step 2200: 6730 GSs duplicated, 773 GSs split. Now having 137882 GSs.\n",
            "Step 2200: 320 GSs pruned. Now having 137562 GSs.\n",
            "loss=0.025| sh degree=2| :   8% 2296/30000 [00:26<05:20, 86.47it/s]Step 2300: 6708 GSs duplicated, 746 GSs split. Now having 145016 GSs.\n",
            "Step 2300: 359 GSs pruned. Now having 144657 GSs.\n",
            "loss=0.012| sh degree=2| :   8% 2398/30000 [00:27<05:38, 81.60it/s]Step 2400: 6717 GSs duplicated, 687 GSs split. Now having 152061 GSs.\n",
            "Step 2400: 346 GSs pruned. Now having 151715 GSs.\n",
            "loss=0.024| sh degree=2| :   8% 2497/30000 [00:29<05:27, 84.04it/s]Step 2500: 6532 GSs duplicated, 606 GSs split. Now having 158853 GSs.\n",
            "Step 2500: 392 GSs pruned. Now having 158461 GSs.\n",
            "loss=0.016| sh degree=2| :   9% 2599/30000 [00:30<05:28, 83.44it/s]Step 2600: 6649 GSs duplicated, 569 GSs split. Now having 165679 GSs.\n",
            "Step 2600: 415 GSs pruned. Now having 165264 GSs.\n",
            "loss=0.012| sh degree=2| :   9% 2700/30000 [00:31<05:28, 83.03it/s]Step 2700: 6606 GSs duplicated, 528 GSs split. Now having 172398 GSs.\n",
            "Step 2700: 378 GSs pruned. Now having 172020 GSs.\n",
            "loss=0.013| sh degree=2| :   9% 2800/30000 [00:32<05:18, 85.38it/s]Step 2800: 6332 GSs duplicated, 498 GSs split. Now having 178850 GSs.\n",
            "Step 2800: 419 GSs pruned. Now having 178431 GSs.\n",
            "loss=0.015| sh degree=2| :  10% 2896/30000 [00:34<05:46, 78.31it/s]Step 2900: 6234 GSs duplicated, 438 GSs split. Now having 185103 GSs.\n",
            "Step 2900: 382 GSs pruned. Now having 184721 GSs.\n",
            "loss=0.010| sh degree=3| :  10% 2996/30000 [00:35<06:03, 74.22it/s]Step 3000: 6092 GSs duplicated, 409 GSs split. Now having 191222 GSs.\n",
            "Step 3000: 432 GSs pruned. Now having 190790 GSs.\n",
            "loss=0.012| sh degree=3| :  10% 3095/30000 [00:36<05:34, 80.45it/s]Step 3100: 6037 GSs duplicated, 409 GSs split. Now having 197236 GSs.\n",
            "Step 3100: 864 GSs pruned. Now having 196372 GSs.\n",
            "loss=0.012| sh degree=3| :  11% 3198/30000 [00:38<05:46, 77.27it/s]Step 3200: 5980 GSs duplicated, 532 GSs split. Now having 202884 GSs.\n",
            "Step 3200: 481 GSs pruned. Now having 202403 GSs.\n",
            "loss=0.013| sh degree=3| :  11% 3295/30000 [00:39<06:04, 73.28it/s]Step 3300: 5894 GSs duplicated, 464 GSs split. Now having 208761 GSs.\n",
            "Step 3300: 522 GSs pruned. Now having 208239 GSs.\n",
            "loss=0.012| sh degree=3| :  11% 3399/30000 [00:40<05:24, 81.91it/s]Step 3400: 5975 GSs duplicated, 456 GSs split. Now having 214670 GSs.\n",
            "Step 3400: 528 GSs pruned. Now having 214142 GSs.\n",
            "loss=0.011| sh degree=3| :  12% 3498/30000 [00:41<05:28, 80.70it/s]Step 3500: 5639 GSs duplicated, 421 GSs split. Now having 220202 GSs.\n",
            "Step 3500: 542 GSs pruned. Now having 219660 GSs.\n",
            "loss=0.011| sh degree=3| :  12% 3597/30000 [00:43<05:19, 82.54it/s]Step 3600: 5781 GSs duplicated, 404 GSs split. Now having 225845 GSs.\n",
            "Step 3600: 517 GSs pruned. Now having 225328 GSs.\n",
            "loss=0.010| sh degree=3| :  12% 3693/30000 [00:44<05:45, 76.06it/s]Step 3700: 5450 GSs duplicated, 387 GSs split. Now having 231165 GSs.\n",
            "Step 3700: 539 GSs pruned. Now having 230626 GSs.\n",
            "loss=0.010| sh degree=3| :  13% 3800/30000 [00:45<05:54, 73.93it/s]Step 3800: 5371 GSs duplicated, 338 GSs split. Now having 236335 GSs.\n",
            "Step 3800: 546 GSs pruned. Now having 235789 GSs.\n",
            "loss=0.010| sh degree=3| :  13% 3892/30000 [00:47<05:37, 77.39it/s]Step 3900: 5193 GSs duplicated, 389 GSs split. Now having 241371 GSs.\n",
            "Step 3900: 565 GSs pruned. Now having 240806 GSs.\n",
            "loss=0.010| sh degree=3| :  13% 3993/30000 [00:48<05:45, 75.32it/s]Step 4000: 5330 GSs duplicated, 329 GSs split. Now having 246465 GSs.\n",
            "Step 4000: 528 GSs pruned. Now having 245937 GSs.\n",
            "loss=0.009| sh degree=3| :  14% 4099/30000 [00:49<05:53, 73.26it/s]Step 4100: 5140 GSs duplicated, 290 GSs split. Now having 251367 GSs.\n",
            "Step 4100: 506 GSs pruned. Now having 250861 GSs.\n",
            "loss=0.019| sh degree=3| :  14% 4196/30000 [00:51<05:37, 76.46it/s]Step 4200: 4935 GSs duplicated, 263 GSs split. Now having 256059 GSs.\n",
            "Step 4200: 589 GSs pruned. Now having 255470 GSs.\n",
            "loss=0.009| sh degree=3| :  14% 4293/30000 [00:52<05:54, 72.52it/s]Step 4300: 4918 GSs duplicated, 306 GSs split. Now having 260694 GSs.\n",
            "Step 4300: 578 GSs pruned. Now having 260116 GSs.\n",
            "loss=0.011| sh degree=3| :  15% 4400/30000 [00:53<06:01, 70.81it/s]Step 4400: 5000 GSs duplicated, 338 GSs split. Now having 265454 GSs.\n",
            "Step 4400: 543 GSs pruned. Now having 264911 GSs.\n",
            "loss=0.010| sh degree=3| :  15% 4499/30000 [00:55<05:24, 78.49it/s]Step 4500: 4941 GSs duplicated, 229 GSs split. Now having 270081 GSs.\n",
            "Step 4500: 588 GSs pruned. Now having 269493 GSs.\n",
            "loss=0.010| sh degree=3| :  15% 4600/30000 [00:56<05:55, 71.54it/s]Step 4600: 4703 GSs duplicated, 254 GSs split. Now having 274450 GSs.\n",
            "Step 4600: 615 GSs pruned. Now having 273835 GSs.\n",
            "loss=0.009| sh degree=3| :  16% 4700/30000 [00:58<06:21, 66.28it/s]Step 4700: 4714 GSs duplicated, 245 GSs split. Now having 278794 GSs.\n",
            "Step 4700: 594 GSs pruned. Now having 278200 GSs.\n",
            "loss=0.011| sh degree=3| :  16% 4798/30000 [00:59<05:40, 74.09it/s]Step 4800: 4735 GSs duplicated, 239 GSs split. Now having 283174 GSs.\n",
            "Step 4800: 563 GSs pruned. Now having 282611 GSs.\n",
            "loss=0.011| sh degree=3| :  16% 4895/30000 [01:00<05:57, 70.27it/s]Step 4900: 4567 GSs duplicated, 214 GSs split. Now having 287392 GSs.\n",
            "Step 4900: 579 GSs pruned. Now having 286813 GSs.\n",
            "loss=0.009| sh degree=3| :  17% 4994/30000 [01:02<05:19, 78.22it/s]Step 5000: 4535 GSs duplicated, 226 GSs split. Now having 291574 GSs.\n",
            "Step 5000: 524 GSs pruned. Now having 291050 GSs.\n",
            "loss=0.008| sh degree=3| :  17% 5098/30000 [01:03<05:32, 74.80it/s]Step 5100: 4318 GSs duplicated, 203 GSs split. Now having 295571 GSs.\n",
            "Step 5100: 576 GSs pruned. Now having 294995 GSs.\n",
            "loss=0.009| sh degree=3| :  17% 5197/30000 [01:04<05:44, 72.00it/s]Step 5200: 4476 GSs duplicated, 211 GSs split. Now having 299682 GSs.\n",
            "Step 5200: 519 GSs pruned. Now having 299163 GSs.\n",
            "loss=0.009| sh degree=3| :  18% 5294/30000 [01:06<05:23, 76.40it/s]Step 5300: 4448 GSs duplicated, 203 GSs split. Now having 303814 GSs.\n",
            "Step 5300: 520 GSs pruned. Now having 303294 GSs.\n",
            "loss=0.009| sh degree=3| :  18% 5400/30000 [01:07<05:35, 73.30it/s]Step 5400: 4319 GSs duplicated, 174 GSs split. Now having 307787 GSs.\n",
            "Step 5400: 529 GSs pruned. Now having 307258 GSs.\n",
            "loss=0.008| sh degree=3| :  18% 5497/30000 [01:09<06:04, 67.19it/s]Step 5500: 4223 GSs duplicated, 194 GSs split. Now having 311675 GSs.\n",
            "Step 5500: 525 GSs pruned. Now having 311150 GSs.\n",
            "loss=0.009| sh degree=3| :  19% 5600/30000 [01:10<05:22, 75.61it/s]Step 5600: 4142 GSs duplicated, 178 GSs split. Now having 315470 GSs.\n",
            "Step 5600: 512 GSs pruned. Now having 314958 GSs.\n",
            "loss=0.008| sh degree=3| :  19% 5697/30000 [01:11<05:37, 72.07it/s]Step 5700: 3917 GSs duplicated, 180 GSs split. Now having 319055 GSs.\n",
            "Step 5700: 492 GSs pruned. Now having 318563 GSs.\n",
            "loss=0.008| sh degree=3| :  19% 5794/30000 [01:13<05:13, 77.19it/s]Step 5800: 4168 GSs duplicated, 163 GSs split. Now having 322894 GSs.\n",
            "Step 5800: 491 GSs pruned. Now having 322403 GSs.\n",
            "loss=0.008| sh degree=3| :  20% 5898/30000 [01:14<05:24, 74.30it/s]Step 5900: 4114 GSs duplicated, 182 GSs split. Now having 326699 GSs.\n",
            "Step 5900: 504 GSs pruned. Now having 326195 GSs.\n",
            "loss=0.009| sh degree=3| :  20% 5995/30000 [01:16<05:38, 70.97it/s]Step 6000: 3924 GSs duplicated, 162 GSs split. Now having 330281 GSs.\n",
            "Step 6000: 507 GSs pruned. Now having 329774 GSs.\n",
            "loss=0.012| sh degree=3| :  20% 6100/30000 [01:17<05:12, 76.57it/s]Step 6100: 4000 GSs duplicated, 142 GSs split. Now having 333916 GSs.\n",
            "Step 6100: 537 GSs pruned. Now having 333379 GSs.\n",
            "loss=0.009| sh degree=3| :  21% 6196/30000 [01:18<05:26, 72.80it/s]Step 6200: 4022 GSs duplicated, 137 GSs split. Now having 337538 GSs.\n",
            "Step 6200: 536 GSs pruned. Now having 337002 GSs.\n",
            "loss=0.008| sh degree=3| :  21% 6300/30000 [01:20<05:42, 69.13it/s]Step 6300: 3878 GSs duplicated, 130 GSs split. Now having 341010 GSs.\n",
            "Step 6300: 490 GSs pruned. Now having 340520 GSs.\n",
            "loss=0.011| sh degree=3| :  21% 6396/30000 [01:21<05:33, 70.76it/s]Step 6400: 3865 GSs duplicated, 133 GSs split. Now having 344518 GSs.\n",
            "Step 6400: 536 GSs pruned. Now having 343982 GSs.\n",
            "loss=0.009| sh degree=3| :  22% 6498/30000 [01:23<05:35, 70.03it/s]Step 6500: 3730 GSs duplicated, 138 GSs split. Now having 347850 GSs.\n",
            "Step 6500: 556 GSs pruned. Now having 347294 GSs.\n",
            "loss=0.009| sh degree=3| :  22% 6594/30000 [01:24<05:56, 65.62it/s]Step 6600: 3653 GSs duplicated, 135 GSs split. Now having 351082 GSs.\n",
            "Step 6600: 531 GSs pruned. Now having 350551 GSs.\n",
            "loss=0.009| sh degree=3| :  22% 6697/30000 [01:26<05:24, 71.80it/s]Step 6700: 3833 GSs duplicated, 154 GSs split. Now having 354538 GSs.\n",
            "Step 6700: 537 GSs pruned. Now having 354001 GSs.\n",
            "loss=0.008| sh degree=3| :  23% 6800/30000 [01:27<05:24, 71.40it/s]Step 6800: 3441 GSs duplicated, 99 GSs split. Now having 357541 GSs.\n",
            "Step 6800: 602 GSs pruned. Now having 356939 GSs.\n",
            "loss=0.009| sh degree=3| :  23% 6895/30000 [01:28<05:54, 65.12it/s]Step 6900: 3626 GSs duplicated, 103 GSs split. Now having 360668 GSs.\n",
            "Step 6900: 517 GSs pruned. Now having 360151 GSs.\n",
            "loss=0.007| sh degree=3| :  23% 6998/30000 [01:30<05:14, 73.11it/s]Step:  6999 {'mem': 0.608790397644043, 'ellipse_time': 90.37184166908264, 'num_GS': 360151}\n",
            "Running evaluation...\n",
            "PSNR: 33.004, SSIM: 0.9800, LPIPS: 0.028 Time: 0.004s/image Number of GS: 360151\n",
            "Running trajectory rendering...\n",
            "\n",
            "Rendering trajectory:   0% 0/59 [00:00<?, ?it/s]\u001b[A\n",
            "Rendering trajectory:   2% 1/59 [00:00<00:10,  5.40it/s]\u001b[A\n",
            "Rendering trajectory:   7% 4/59 [00:00<00:03, 15.90it/s]\u001b[A\n",
            "Rendering trajectory:  14% 8/59 [00:00<00:02, 23.21it/s]\u001b[A\n",
            "Rendering trajectory:  20% 12/59 [00:00<00:01, 27.25it/s]\u001b[A\n",
            "Rendering trajectory:  27% 16/59 [00:00<00:01, 29.74it/s]\u001b[A\n",
            "Rendering trajectory:  34% 20/59 [00:00<00:01, 31.26it/s]\u001b[A\n",
            "Rendering trajectory:  41% 24/59 [00:00<00:01, 32.41it/s]\u001b[A\n",
            "Rendering trajectory:  47% 28/59 [00:00<00:00, 33.06it/s]\u001b[A\n",
            "Rendering trajectory:  54% 32/59 [00:01<00:00, 33.49it/s]\u001b[A\n",
            "Rendering trajectory:  61% 36/59 [00:01<00:00, 33.86it/s]\u001b[A\n",
            "Rendering trajectory:  68% 40/59 [00:01<00:00, 34.25it/s]\u001b[A\n",
            "Rendering trajectory:  75% 44/59 [00:01<00:00, 34.03it/s]\u001b[A\n",
            "Rendering trajectory:  81% 48/59 [00:01<00:00, 34.12it/s]\u001b[A\n",
            "Rendering trajectory:  88% 52/59 [00:01<00:00, 33.64it/s]\u001b[A\n",
            "Rendering trajectory: 100% 59/59 [00:01<00:00, 30.73it/s]\n",
            "Video saved to /content/results/lantern_baseline/videos/traj_6999.mp4\n",
            "loss=0.009| sh degree=3| :  23% 6998/30000 [01:37<05:14, 73.11it/s]Step 7000: 3447 GSs duplicated, 95 GSs split. Now having 363693 GSs.\n",
            "Step 7000: 528 GSs pruned. Now having 363165 GSs.\n",
            "loss=0.007| sh degree=3| :  24% 7093/30000 [01:39<07:09, 53.32it/s]Step 7100: 3626 GSs duplicated, 124 GSs split. Now having 366915 GSs.\n",
            "Step 7100: 538 GSs pruned. Now having 366377 GSs.\n",
            "loss=0.008| sh degree=3| :  24% 7194/30000 [01:40<05:29, 69.22it/s]Step 7200: 3524 GSs duplicated, 121 GSs split. Now having 370022 GSs.\n",
            "Step 7200: 526 GSs pruned. Now having 369496 GSs.\n",
            "loss=0.011| sh degree=3| :  24% 7296/30000 [01:41<05:27, 69.24it/s]Step 7300: 3395 GSs duplicated, 99 GSs split. Now having 372990 GSs.\n",
            "Step 7300: 605 GSs pruned. Now having 372385 GSs.\n",
            "loss=0.012| sh degree=3| :  25% 7398/30000 [01:43<05:39, 66.56it/s]Step 7400: 3477 GSs duplicated, 144 GSs split. Now having 376006 GSs.\n",
            "Step 7400: 544 GSs pruned. Now having 375462 GSs.\n",
            "loss=0.008| sh degree=3| :  25% 7499/30000 [01:44<05:17, 70.93it/s]Step 7500: 3324 GSs duplicated, 104 GSs split. Now having 378890 GSs.\n",
            "Step 7500: 551 GSs pruned. Now having 378339 GSs.\n",
            "loss=0.008| sh degree=3| :  25% 7600/30000 [01:46<05:31, 67.49it/s]Step 7600: 3237 GSs duplicated, 67 GSs split. Now having 381643 GSs.\n",
            "Step 7600: 532 GSs pruned. Now having 381111 GSs.\n",
            "loss=0.007| sh degree=3| :  26% 7694/30000 [01:48<05:44, 64.72it/s]Step 7700: 3229 GSs duplicated, 87 GSs split. Now having 384427 GSs.\n",
            "Step 7700: 527 GSs pruned. Now having 383900 GSs.\n",
            "loss=0.009| sh degree=3| :  26% 7795/30000 [01:49<05:18, 69.76it/s]Step 7800: 3331 GSs duplicated, 76 GSs split. Now having 387307 GSs.\n",
            "Step 7800: 574 GSs pruned. Now having 386733 GSs.\n",
            "loss=0.008| sh degree=3| :  26% 7893/30000 [01:50<05:28, 67.33it/s]Step 7900: 3247 GSs duplicated, 78 GSs split. Now having 390058 GSs.\n",
            "Step 7900: 499 GSs pruned. Now having 389559 GSs.\n",
            "loss=0.007| sh degree=3| :  27% 7996/30000 [01:52<05:53, 62.22it/s]Step 8000: 3234 GSs duplicated, 65 GSs split. Now having 392858 GSs.\n",
            "Step 8000: 531 GSs pruned. Now having 392327 GSs.\n",
            "loss=0.008| sh degree=3| :  27% 8097/30000 [01:54<05:16, 69.28it/s]Step 8100: 3292 GSs duplicated, 97 GSs split. Now having 395716 GSs.\n",
            "Step 8100: 605 GSs pruned. Now having 395111 GSs.\n",
            "loss=0.007| sh degree=3| :  27% 8194/30000 [01:55<05:35, 65.06it/s]Step 8200: 3045 GSs duplicated, 62 GSs split. Now having 398218 GSs.\n",
            "Step 8200: 547 GSs pruned. Now having 397671 GSs.\n",
            "loss=0.007| sh degree=3| :  28% 8299/30000 [01:57<05:57, 60.73it/s]Step 8300: 2984 GSs duplicated, 75 GSs split. Now having 400730 GSs.\n",
            "Step 8300: 535 GSs pruned. Now having 400195 GSs.\n",
            "loss=0.008| sh degree=3| :  28% 8400/30000 [01:58<05:18, 67.87it/s]Step 8400: 3057 GSs duplicated, 106 GSs split. Now having 403358 GSs.\n",
            "Step 8400: 569 GSs pruned. Now having 402789 GSs.\n",
            "loss=0.008| sh degree=3| :  28% 8499/30000 [02:00<05:36, 63.89it/s]Step 8500: 3086 GSs duplicated, 107 GSs split. Now having 405982 GSs.\n",
            "Step 8500: 579 GSs pruned. Now having 405403 GSs.\n",
            "loss=0.008| sh degree=3| :  29% 8599/30000 [02:01<05:12, 68.47it/s]Step 8600: 2997 GSs duplicated, 85 GSs split. Now having 408485 GSs.\n",
            "Step 8600: 610 GSs pruned. Now having 407875 GSs.\n",
            "loss=0.008| sh degree=3| :  29% 8698/30000 [02:03<05:18, 66.94it/s]Step 8700: 2898 GSs duplicated, 51 GSs split. Now having 410824 GSs.\n",
            "Step 8700: 550 GSs pruned. Now having 410274 GSs.\n",
            "loss=0.007| sh degree=3| :  29% 8797/30000 [02:04<05:38, 62.65it/s]Step 8800: 2865 GSs duplicated, 70 GSs split. Now having 413209 GSs.\n",
            "Step 8800: 556 GSs pruned. Now having 412653 GSs.\n",
            "loss=0.009| sh degree=3| :  30% 8895/30000 [02:06<05:28, 64.19it/s]Step 8900: 2980 GSs duplicated, 71 GSs split. Now having 415704 GSs.\n",
            "Step 8900: 573 GSs pruned. Now having 415131 GSs.\n",
            "loss=0.007| sh degree=3| :  30% 9000/30000 [02:08<05:31, 63.36it/s]Step 9000: 2898 GSs duplicated, 65 GSs split. Now having 418094 GSs.\n",
            "Step 9000: 586 GSs pruned. Now having 417508 GSs.\n",
            "loss=0.007| sh degree=3| :  30% 9099/30000 [02:09<05:30, 63.26it/s]Step 9100: 2762 GSs duplicated, 69 GSs split. Now having 420339 GSs.\n",
            "Step 9100: 561 GSs pruned. Now having 419778 GSs.\n",
            "loss=0.008| sh degree=3| :  31% 9197/30000 [02:11<05:12, 66.51it/s]Step 9200: 2713 GSs duplicated, 66 GSs split. Now having 422557 GSs.\n",
            "Step 9200: 571 GSs pruned. Now having 421986 GSs.\n",
            "loss=0.007| sh degree=3| :  31% 9296/30000 [02:12<05:30, 62.71it/s]Step 9300: 3011 GSs duplicated, 93 GSs split. Now having 425090 GSs.\n",
            "Step 9300: 587 GSs pruned. Now having 424503 GSs.\n",
            "loss=0.007| sh degree=3| :  31% 9394/30000 [02:14<05:14, 65.44it/s]Step 9400: 2853 GSs duplicated, 61 GSs split. Now having 427417 GSs.\n",
            "Step 9400: 658 GSs pruned. Now having 426759 GSs.\n",
            "loss=0.007| sh degree=3| :  32% 9499/30000 [02:15<05:14, 65.26it/s]Step 9500: 2769 GSs duplicated, 60 GSs split. Now having 429588 GSs.\n",
            "Step 9500: 609 GSs pruned. Now having 428979 GSs.\n",
            "loss=0.008| sh degree=3| :  32% 9597/30000 [02:17<05:23, 63.05it/s]Step 9600: 2818 GSs duplicated, 53 GSs split. Now having 431850 GSs.\n",
            "Step 9600: 575 GSs pruned. Now having 431275 GSs.\n",
            "loss=0.007| sh degree=3| :  32% 9695/30000 [02:19<05:06, 66.15it/s]Step 9700: 2714 GSs duplicated, 50 GSs split. Now having 434039 GSs.\n",
            "Step 9700: 551 GSs pruned. Now having 433488 GSs.\n",
            "loss=0.007| sh degree=3| :  33% 9800/30000 [02:20<05:11, 64.77it/s]Step 9800: 2804 GSs duplicated, 55 GSs split. Now having 436347 GSs.\n",
            "Step 9800: 528 GSs pruned. Now having 435819 GSs.\n",
            "loss=0.009| sh degree=3| :  33% 9899/30000 [02:22<05:37, 59.64it/s]Step 9900: 2784 GSs duplicated, 52 GSs split. Now having 438655 GSs.\n",
            "Step 9900: 535 GSs pruned. Now having 438120 GSs.\n",
            "loss=0.013| sh degree=3| :  33% 9997/30000 [02:23<05:03, 65.92it/s]Step 10000: 2630 GSs duplicated, 58 GSs split. Now having 440808 GSs.\n",
            "Step 10000: 573 GSs pruned. Now having 440235 GSs.\n",
            "loss=0.007| sh degree=3| :  34% 10095/30000 [02:25<05:27, 60.76it/s]Step 10100: 2624 GSs duplicated, 71 GSs split. Now having 442930 GSs.\n",
            "Step 10100: 614 GSs pruned. Now having 442316 GSs.\n",
            "loss=0.008| sh degree=3| :  34% 10200/30000 [02:27<05:43, 57.63it/s]Step 10200: 2336 GSs duplicated, 53 GSs split. Now having 444705 GSs.\n",
            "Step 10200: 602 GSs pruned. Now having 444103 GSs.\n",
            "loss=0.007| sh degree=3| :  34% 10297/30000 [02:28<05:10, 63.55it/s]Step 10300: 2595 GSs duplicated, 59 GSs split. Now having 446757 GSs.\n",
            "Step 10300: 605 GSs pruned. Now having 446152 GSs.\n",
            "loss=0.007| sh degree=3| :  35% 10395/30000 [02:30<05:13, 62.55it/s]Step 10400: 2633 GSs duplicated, 69 GSs split. Now having 448854 GSs.\n",
            "Step 10400: 680 GSs pruned. Now having 448174 GSs.\n",
            "loss=0.006| sh degree=3| :  35% 10500/30000 [02:32<05:22, 60.50it/s]Step 10500: 2430 GSs duplicated, 53 GSs split. Now having 450657 GSs.\n",
            "Step 10500: 597 GSs pruned. Now having 450060 GSs.\n",
            "loss=0.007| sh degree=3| :  35% 10598/30000 [02:33<05:00, 64.64it/s]Step 10600: 2692 GSs duplicated, 62 GSs split. Now having 452814 GSs.\n",
            "Step 10600: 607 GSs pruned. Now having 452207 GSs.\n",
            "loss=0.008| sh degree=3| :  36% 10696/30000 [02:35<05:13, 61.52it/s]Step 10700: 2514 GSs duplicated, 51 GSs split. Now having 454772 GSs.\n",
            "Step 10700: 587 GSs pruned. Now having 454185 GSs.\n",
            "loss=0.007| sh degree=3| :  36% 10794/30000 [02:37<04:55, 65.10it/s]Step 10800: 2382 GSs duplicated, 58 GSs split. Now having 456625 GSs.\n",
            "Step 10800: 646 GSs pruned. Now having 455979 GSs.\n",
            "loss=0.006| sh degree=3| :  36% 10899/30000 [02:38<04:59, 63.74it/s]Step 10900: 2458 GSs duplicated, 71 GSs split. Now having 458508 GSs.\n",
            "Step 10900: 603 GSs pruned. Now having 457905 GSs.\n",
            "loss=0.007| sh degree=3| :  37% 10997/30000 [02:40<05:20, 59.32it/s]Step 11000: 2514 GSs duplicated, 67 GSs split. Now having 460486 GSs.\n",
            "Step 11000: 651 GSs pruned. Now having 459835 GSs.\n",
            "loss=0.009| sh degree=3| :  37% 11095/30000 [02:41<04:53, 64.43it/s]Step 11100: 2380 GSs duplicated, 52 GSs split. Now having 462267 GSs.\n",
            "Step 11100: 600 GSs pruned. Now having 461667 GSs.\n",
            "loss=0.012| sh degree=3| :  37% 11199/30000 [02:43<05:01, 62.28it/s]Step 11200: 2338 GSs duplicated, 58 GSs split. Now having 464063 GSs.\n",
            "Step 11200: 652 GSs pruned. Now having 463411 GSs.\n",
            "loss=0.006| sh degree=3| :  38% 11297/30000 [02:45<05:12, 59.79it/s]Step 11300: 2394 GSs duplicated, 39 GSs split. Now having 465844 GSs.\n",
            "Step 11300: 664 GSs pruned. Now having 465180 GSs.\n",
            "loss=0.008| sh degree=3| :  38% 11395/30000 [02:46<04:52, 63.70it/s]Step 11400: 2298 GSs duplicated, 52 GSs split. Now having 467530 GSs.\n",
            "Step 11400: 676 GSs pruned. Now having 466854 GSs.\n",
            "loss=0.008| sh degree=3| :  38% 11500/30000 [02:48<05:10, 59.65it/s]Step 11500: 2398 GSs duplicated, 62 GSs split. Now having 469314 GSs.\n",
            "Step 11500: 661 GSs pruned. Now having 468653 GSs.\n",
            "loss=0.006| sh degree=3| :  39% 11597/30000 [02:50<05:31, 55.50it/s]Step 11600: 2313 GSs duplicated, 54 GSs split. Now having 471020 GSs.\n",
            "Step 11600: 543 GSs pruned. Now having 470477 GSs.\n",
            "loss=0.010| sh degree=3| :  39% 11699/30000 [02:51<04:52, 62.64it/s]Step 11700: 2196 GSs duplicated, 58 GSs split. Now having 472731 GSs.\n",
            "Step 11700: 591 GSs pruned. Now having 472140 GSs.\n",
            "loss=0.007| sh degree=3| :  39% 11796/30000 [02:53<05:08, 58.97it/s]Step 11800: 2335 GSs duplicated, 45 GSs split. Now having 474520 GSs.\n",
            "Step 11800: 650 GSs pruned. Now having 473870 GSs.\n",
            "loss=0.007| sh degree=3| :  40% 11898/30000 [02:55<05:21, 56.33it/s]Step 11900: 2206 GSs duplicated, 40 GSs split. Now having 476116 GSs.\n",
            "Step 11900: 659 GSs pruned. Now having 475457 GSs.\n",
            "loss=0.008| sh degree=3| :  40% 11995/30000 [02:56<04:51, 61.71it/s]Step 12000: 2204 GSs duplicated, 45 GSs split. Now having 477706 GSs.\n",
            "Step 12000: 649 GSs pruned. Now having 477057 GSs.\n",
            "loss=0.007| sh degree=3| :  40% 12100/30000 [02:58<04:58, 59.94it/s]Step 12100: 2270 GSs duplicated, 49 GSs split. Now having 479376 GSs.\n",
            "Step 12100: 614 GSs pruned. Now having 478762 GSs.\n",
            "loss=0.007| sh degree=3| :  41% 12197/30000 [03:00<04:50, 61.33it/s]Step 12200: 2179 GSs duplicated, 42 GSs split. Now having 480983 GSs.\n",
            "Step 12200: 655 GSs pruned. Now having 480328 GSs.\n",
            "loss=0.007| sh degree=3| :  41% 12298/30000 [03:02<04:58, 59.33it/s]Step 12300: 2188 GSs duplicated, 42 GSs split. Now having 482558 GSs.\n",
            "Step 12300: 664 GSs pruned. Now having 481894 GSs.\n",
            "loss=0.007| sh degree=3| :  41% 12396/30000 [03:03<05:13, 56.23it/s]Step 12400: 2355 GSs duplicated, 61 GSs split. Now having 484310 GSs.\n",
            "Step 12400: 688 GSs pruned. Now having 483622 GSs.\n",
            "loss=0.008| sh degree=3| :  42% 12494/30000 [03:05<04:44, 61.51it/s]Step 12500: 2239 GSs duplicated, 46 GSs split. Now having 485907 GSs.\n",
            "Step 12500: 687 GSs pruned. Now having 485220 GSs.\n",
            "loss=0.007| sh degree=3| :  42% 12595/30000 [03:07<04:55, 58.93it/s]Step 12600: 2159 GSs duplicated, 43 GSs split. Now having 487422 GSs.\n",
            "Step 12600: 653 GSs pruned. Now having 486769 GSs.\n",
            "loss=0.007| sh degree=3| :  42% 12698/30000 [03:08<05:08, 56.10it/s]Step 12700: 2164 GSs duplicated, 44 GSs split. Now having 488977 GSs.\n",
            "Step 12700: 711 GSs pruned. Now having 488266 GSs.\n",
            "loss=0.008| sh degree=3| :  43% 12795/30000 [03:10<04:49, 59.46it/s]Step 12800: 2109 GSs duplicated, 47 GSs split. Now having 490422 GSs.\n",
            "Step 12800: 634 GSs pruned. Now having 489788 GSs.\n",
            "loss=0.007| sh degree=3| :  43% 12898/30000 [03:12<04:46, 59.74it/s]Step 12900: 2056 GSs duplicated, 35 GSs split. Now having 491879 GSs.\n",
            "Step 12900: 666 GSs pruned. Now having 491213 GSs.\n",
            "loss=0.008| sh degree=3| :  43% 12994/30000 [03:14<05:07, 55.28it/s]Step 13000: 2196 GSs duplicated, 49 GSs split. Now having 493458 GSs.\n",
            "Step 13000: 708 GSs pruned. Now having 492750 GSs.\n",
            "loss=0.007| sh degree=3| :  44% 13097/30000 [03:15<04:45, 59.21it/s]Step 13100: 2071 GSs duplicated, 33 GSs split. Now having 494854 GSs.\n",
            "Step 13100: 631 GSs pruned. Now having 494223 GSs.\n",
            "loss=0.007| sh degree=3| :  44% 13196/30000 [03:17<04:57, 56.56it/s]Step 13200: 2151 GSs duplicated, 45 GSs split. Now having 496419 GSs.\n",
            "Step 13200: 677 GSs pruned. Now having 495742 GSs.\n",
            "loss=0.006| sh degree=3| :  44% 13295/30000 [03:19<04:30, 61.75it/s]Step 13300: 1995 GSs duplicated, 28 GSs split. Now having 497765 GSs.\n",
            "Step 13300: 632 GSs pruned. Now having 497133 GSs.\n",
            "loss=0.007| sh degree=3| :  45% 13397/30000 [03:20<04:32, 60.90it/s]Step 13400: 2032 GSs duplicated, 30 GSs split. Now having 499195 GSs.\n",
            "Step 13400: 651 GSs pruned. Now having 498544 GSs.\n",
            "loss=0.007| sh degree=3| :  45% 13497/30000 [03:22<04:44, 58.00it/s]Step 13500: 2139 GSs duplicated, 28 GSs split. Now having 500711 GSs.\n",
            "Step 13500: 818 GSs pruned. Now having 499893 GSs.\n",
            "loss=0.007| sh degree=3| :  45% 13594/30000 [03:24<04:28, 61.21it/s]Step 13600: 1991 GSs duplicated, 29 GSs split. Now having 501913 GSs.\n",
            "Step 13600: 609 GSs pruned. Now having 501304 GSs.\n",
            "loss=0.008| sh degree=3| :  46% 13695/30000 [03:26<04:34, 59.49it/s]Step 13700: 1935 GSs duplicated, 29 GSs split. Now having 503268 GSs.\n",
            "Step 13700: 697 GSs pruned. Now having 502571 GSs.\n",
            "loss=0.007| sh degree=3| :  46% 13799/30000 [03:27<05:00, 53.91it/s]Step 13800: 2011 GSs duplicated, 31 GSs split. Now having 504613 GSs.\n",
            "Step 13800: 704 GSs pruned. Now having 503909 GSs.\n",
            "loss=0.007| sh degree=3| :  46% 13897/30000 [03:29<04:33, 58.86it/s]Step 13900: 2012 GSs duplicated, 23 GSs split. Now having 505944 GSs.\n",
            "Step 13900: 707 GSs pruned. Now having 505237 GSs.\n",
            "loss=0.008| sh degree=3| :  47% 13996/30000 [03:31<04:32, 58.70it/s]Step 14000: 2017 GSs duplicated, 26 GSs split. Now having 507280 GSs.\n",
            "Step 14000: 707 GSs pruned. Now having 506573 GSs.\n",
            "loss=0.006| sh degree=3| :  47% 14099/30000 [03:33<04:38, 57.01it/s]Step 14100: 1914 GSs duplicated, 46 GSs split. Now having 508533 GSs.\n",
            "Step 14100: 604 GSs pruned. Now having 507929 GSs.\n",
            "loss=0.007| sh degree=3| :  47% 14194/30000 [03:34<04:22, 60.29it/s]Step 14200: 1893 GSs duplicated, 29 GSs split. Now having 509851 GSs.\n",
            "Step 14200: 616 GSs pruned. Now having 509235 GSs.\n",
            "loss=0.007| sh degree=3| :  48% 14298/30000 [03:36<04:27, 58.59it/s]Step 14300: 2079 GSs duplicated, 41 GSs split. Now having 511355 GSs.\n",
            "Step 14300: 684 GSs pruned. Now having 510671 GSs.\n",
            "loss=0.007| sh degree=3| :  48% 14396/30000 [03:38<04:17, 60.69it/s]Step 14400: 1800 GSs duplicated, 29 GSs split. Now having 512500 GSs.\n",
            "Step 14400: 672 GSs pruned. Now having 511828 GSs.\n",
            "loss=0.007| sh degree=3| :  48% 14497/30000 [03:40<04:20, 59.41it/s]Step 14500: 1816 GSs duplicated, 32 GSs split. Now having 513676 GSs.\n",
            "Step 14500: 675 GSs pruned. Now having 513001 GSs.\n",
            "loss=0.007| sh degree=3| :  49% 14597/30000 [03:41<04:26, 57.78it/s]Step 14600: 1853 GSs duplicated, 31 GSs split. Now having 514885 GSs.\n",
            "Step 14600: 661 GSs pruned. Now having 514224 GSs.\n",
            "loss=0.007| sh degree=3| :  49% 14700/30000 [03:43<04:07, 61.86it/s]Step 14700: 1879 GSs duplicated, 39 GSs split. Now having 516142 GSs.\n",
            "Step 14700: 644 GSs pruned. Now having 515498 GSs.\n",
            "loss=0.008| sh degree=3| :  49% 14798/30000 [03:45<04:12, 60.13it/s]Step 14800: 1773 GSs duplicated, 57 GSs split. Now having 517328 GSs.\n",
            "Step 14800: 643 GSs pruned. Now having 516685 GSs.\n",
            "loss=0.005| sh degree=3| :  50% 14897/30000 [03:46<04:26, 56.72it/s]Step 14900: 1787 GSs duplicated, 26 GSs split. Now having 518498 GSs.\n",
            "Step 14900: 665 GSs pruned. Now having 517833 GSs.\n",
            "loss=0.005| sh degree=3| : 100% 29994/30000 [07:54<00:00, 64.15it/s]Step:  29999 {'mem': 0.9368429183959961, 'ellipse_time': 474.1932170391083, 'num_GS': 517833}\n",
            "Running evaluation...\n",
            "PSNR: 35.936, SSIM: 0.9857, LPIPS: 0.021 Time: 0.005s/image Number of GS: 517833\n",
            "Running trajectory rendering...\n",
            "\n",
            "Rendering trajectory:   0% 0/59 [00:00<?, ?it/s]\u001b[A\n",
            "Rendering trajectory:   3% 2/59 [00:00<00:03, 17.11it/s]\u001b[A\n",
            "Rendering trajectory:  12% 7/59 [00:00<00:01, 31.88it/s]\u001b[A\n",
            "Rendering trajectory:  20% 12/59 [00:00<00:01, 37.61it/s]\u001b[A\n",
            "Rendering trajectory:  29% 17/59 [00:00<00:01, 40.83it/s]\u001b[A\n",
            "Rendering trajectory:  37% 22/59 [00:00<00:00, 42.70it/s]\u001b[A\n",
            "Rendering trajectory:  46% 27/59 [00:00<00:00, 43.85it/s]\u001b[A\n",
            "Rendering trajectory:  54% 32/59 [00:00<00:00, 44.43it/s]\u001b[A\n",
            "Rendering trajectory:  63% 37/59 [00:00<00:00, 44.83it/s]\u001b[A\n",
            "Rendering trajectory:  71% 42/59 [00:00<00:00, 45.40it/s]\u001b[A\n",
            "Rendering trajectory:  80% 47/59 [00:01<00:00, 45.50it/s]\u001b[A\n",
            "Rendering trajectory:  88% 52/59 [00:01<00:00, 45.67it/s]\u001b[A\n",
            "Rendering trajectory: 100% 59/59 [00:01<00:00, 42.69it/s]\n",
            "Video saved to /content/results/lantern_baseline/videos/traj_29999.mp4\n",
            "loss=0.005| sh degree=3| : 100% 30000/30000 [08:00<00:00, 62.42it/s]\n"
          ]
        }
      ]
    },
    {
      "cell_type": "code",
      "source": [
        "%cd /content/gsplat\n",
        "\n",
        "# See parameters for the 'default' config\n",
        "!python examples/simple_trainer.py default --help"
      ],
      "metadata": {
        "id": "Ntt19jse6572"
      },
      "execution_count": null,
      "outputs": []
    },
    {
      "cell_type": "markdown",
      "source": [
        "### ***Run Custom Script***"
      ],
      "metadata": {
        "id": "ccbJae-OXRxG"
      }
    },
    {
      "cell_type": "code",
      "source": [
        "# ============================================================\n",
        "# CELL 1: Install Spectral-GS Dependencies\n",
        "# ============================================================\n",
        "!pip install scipy\n",
        "print(\"✅ Spectral-GS dependencies installed!\")"
      ],
      "metadata": {
        "id": "PoiHuZW1uBaD"
      },
      "execution_count": null,
      "outputs": []
    },
    {
      "cell_type": "code",
      "source": [
        "# ============================================================\n",
        "# CELL 2: Verify Spectral-GS Installation\n",
        "# ============================================================\n",
        "import sys\n",
        "sys.path.insert(0, '/content/gaussian-splatting-spectral/src')\n",
        "\n",
        "try:\n",
        "    from spectral_gs import compute_spectral_entropy, SpectralStrategy, apply_view_consistent_filter\n",
        "    print(\"✅ Spectral-GS modules imported successfully!\")\n",
        "\n",
        "    # Quick test\n",
        "    import torch\n",
        "    test_scales = torch.randn(10, 3).abs() + 0.1\n",
        "    test_quats = torch.randn(10, 4)\n",
        "    test_quats = test_quats / torch.norm(test_quats, dim=-1, keepdim=True)\n",
        "\n",
        "    entropy = compute_spectral_entropy(test_scales, test_quats)\n",
        "    print(f\"   Test entropy computation: mean = {entropy.mean():.3f}\")\n",
        "    print(\"   ✓ All components working!\")\n",
        "\n",
        "except ImportError as e:\n",
        "    print(f\"❌ Import failed: {e}\")\n",
        "    print(\"\\n📝 Troubleshooting:\")\n",
        "    print(\"1. Make sure you pushed spectral_gs code to your GitHub repo\")\n",
        "    print(\"2. Run 'git pull' to update your Colab repository\")\n",
        "    print(\"3. Check that /content/gaussian-splatting-spectral/src/spectral_gs/ exists\")"
      ],
      "metadata": {
        "id": "fCe_l7UduJrH"
      },
      "execution_count": null,
      "outputs": []
    },
    {
      "cell_type": "code",
      "source": [
        "  # Uninstall current pycolmap\n",
        "  !pip uninstall pycolmap -y\n",
        "\n",
        "  # Install the EXACT version gsplat needs (from their requirements.txt)\n",
        "  !pip install git+https://github.com/rmbrualla/pycolmap@cc7ea4b7301720ac29287dbe450952511b32125e\n",
        "\n",
        "  # Verify it worked\n",
        "  !python -c \"from pycolmap import SceneManager; print('✅ SceneManager imported successfully')\""
      ],
      "metadata": {
        "id": "D-09lsXO0l0n"
      },
      "execution_count": null,
      "outputs": []
    },
    {
      "cell_type": "code",
      "source": [
        "# ============================================================\n",
        "# CELL 3: Train with Spectral-GS (MAIN TRAINING)\n",
        "# ============================================================\n",
        "# FIRST: Create the missing __init__.py\n",
        "!touch /content/gsplat/examples/datasets/__init__.py\n",
        "\n",
        "# Copy updated training script\n",
        "import shutil\n",
        "shutil.copy(\n",
        "    '/content/gaussian-splatting-spectral/scripts/train_spectral_gs.py',\n",
        "    '/content/gsplat/examples/train_spectral_gs.py'\n",
        ")\n",
        "\n",
        "# Copy spectral_gs module\n",
        "shutil.copytree(\n",
        "    '/content/gaussian-splatting-spectral/src/spectral_gs',\n",
        "    '/content/gsplat/examples/spectral_gs',\n",
        "    dirs_exist_ok=True\n",
        ")\n",
        "\n",
        "print(\"✅ All files copied!\")\n",
        "\n",
        "%cd /content\n",
        "\n",
        "import torch, gc\n",
        "torch.cuda.empty_cache()\n",
        "gc.collect()\n",
        "# 3. Test with spectral splitting (now properly implemented!)\n",
        "!python gsplat/examples/train_spectral_gs.py \\\n",
        "  --data_dir /content/gaussian-splatting-spectral/lantern_ds_full \\\n",
        "  --result_dir /content/results/lantern_spectral\\\n",
        "  --max_steps 10000 \\\n",
        "  --enable_spectral_splitting \\\n",
        "  --spectral_threshold 0.5 \\\n",
        "  --log_every 100 \\\n",
        "  --verbose\n"
      ],
      "metadata": {
        "id": "dQu06Cln_baN",
        "colab": {
          "base_uri": "https://localhost:8080/"
        },
        "outputId": "979111b0-99db-41a8-a837-2628f627d8d7"
      },
      "execution_count": null,
      "outputs": [
        {
          "output_type": "stream",
          "name": "stdout",
          "text": [
            "✅ All files copied!\n",
            "/content\n",
            "2025-10-16 19:29:40.115607: I tensorflow/core/util/port.cc:153] oneDNN custom operations are on. You may see slightly different numerical results due to floating-point round-off errors from different computation orders. To turn them off, set the environment variable `TF_ENABLE_ONEDNN_OPTS=0`.\n",
            "2025-10-16 19:29:40.133192: E external/local_xla/xla/stream_executor/cuda/cuda_fft.cc:467] Unable to register cuFFT factory: Attempting to register factory for plugin cuFFT when one has already been registered\n",
            "WARNING: All log messages before absl::InitializeLog() is called are written to STDERR\n",
            "E0000 00:00:1760642980.155617   13015 cuda_dnn.cc:8579] Unable to register cuDNN factory: Attempting to register factory for plugin cuDNN when one has already been registered\n",
            "E0000 00:00:1760642980.162299   13015 cuda_blas.cc:1407] Unable to register cuBLAS factory: Attempting to register factory for plugin cuBLAS when one has already been registered\n",
            "W0000 00:00:1760642980.179265   13015 computation_placer.cc:177] computation placer already registered. Please check linkage and avoid linking the same target more than once.\n",
            "W0000 00:00:1760642980.179298   13015 computation_placer.cc:177] computation placer already registered. Please check linkage and avoid linking the same target more than once.\n",
            "W0000 00:00:1760642980.179301   13015 computation_placer.cc:177] computation placer already registered. Please check linkage and avoid linking the same target more than once.\n",
            "W0000 00:00:1760642980.179303   13015 computation_placer.cc:177] computation placer already registered. Please check linkage and avoid linking the same target more than once.\n",
            "2025-10-16 19:29:40.184362: I tensorflow/core/platform/cpu_feature_guard.cc:210] This TensorFlow binary is optimized to use available CPU instructions in performance-critical operations.\n",
            "To enable the following instructions: AVX2 AVX512F AVX512_VNNI FMA, in other operations, rebuild TensorFlow with the appropriate compiler flags.\n",
            "\u001b[91m╭─\u001b[0m\u001b[91m \u001b[0m\u001b[1;91mUnrecognized options\u001b[0m\u001b[91m \u001b[0m\u001b[91m──────────────────────────────────────────────────────\u001b[0m\u001b[91m─╮\u001b[0m\n",
            "\u001b[91m│\u001b[0m Unrecognized or misplaced options:                                           \u001b[91m│\u001b[0m\n",
            "\u001b[91m│\u001b[0m                                                                              \u001b[91m│\u001b[0m\n",
            "\u001b[91m│\u001b[0m   --data-dir (applied to \u001b[32msimple_trainer.py\u001b[0m)                                  \u001b[91m│\u001b[0m\n",
            "\u001b[91m│\u001b[0m                                                                              \u001b[91m│\u001b[0m\n",
            "\u001b[91m│\u001b[0m Arguments are applied to the directly preceding subcommand, so ordering      \u001b[91m│\u001b[0m\n",
            "\u001b[91m│\u001b[0m matters.                                                                     \u001b[91m│\u001b[0m\n",
            "\u001b[91m│\u001b[0m \u001b[31m────────────────────────────────────────────────────────────────────────────\u001b[0m \u001b[91m│\u001b[0m\n",
            "\u001b[91m│\u001b[0m Perhaps you meant:                                                           \u001b[91m│\u001b[0m\n",
            "\u001b[91m│\u001b[0m     \u001b[1m--data-dir STR\u001b[0m                                                           \u001b[91m│\u001b[0m\n",
            "\u001b[91m│\u001b[0m         \u001b[2mPath to the Mip-NeRF 360 dataset\u001b[0m \u001b[36m(default: data/360_v2/garden)\u001b[0m       \u001b[91m│\u001b[0m\n",
            "\u001b[91m│\u001b[0m             in \u001b[32msimple_trainer.py default --help\u001b[0m                              \u001b[91m│\u001b[0m\n",
            "\u001b[91m│\u001b[0m             in \u001b[32msimple_trainer.py mcmc --help\u001b[0m                                 \u001b[91m│\u001b[0m\n",
            "\u001b[91m│\u001b[0m \u001b[31m────────────────────────────────────────────────────────────────────────────\u001b[0m \u001b[91m│\u001b[0m\n",
            "\u001b[91m│\u001b[0m For full helptext, run \u001b[1msimple_trainer.py --help\u001b[0m                              \u001b[91m│\u001b[0m\n",
            "\u001b[91m╰──────────────────────────────────────────────────────────────────────────────╯\u001b[0m\n"
          ]
        }
      ]
    },
    {
      "cell_type": "code",
      "source": [
        "#Download PLY File\n",
        "from google.colab import files\n",
        "files.download(\"/content/gaussian-splatting-spectral/results/lantern_spectral/final.ply\")"
      ],
      "metadata": {
        "id": "J8QST0hIcC9L"
      },
      "execution_count": null,
      "outputs": []
    },
    {
      "cell_type": "code",
      "source": [
        "\n",
        "# ============================================================\n",
        "# CELL 4: Check Results\n",
        "# ============================================================\n",
        "import os\n",
        "\n",
        "result_dir = \"/content/GaussianSplatting/results/lantern_spectral_30k\"\n",
        "\n",
        "print(\"📊 Training Results\\n\")\n",
        "print(\"=\" * 60)\n",
        "\n",
        "if os.path.exists(result_dir):\n",
        "    # List all files\n",
        "    files = os.listdir(result_dir)\n",
        "\n",
        "    # Count checkpoints\n",
        "    checkpoints = [f for f in files if f.endswith('.pt')]\n",
        "    print(f\"✅ Checkpoints saved: {len(checkpoints)}\")\n",
        "\n",
        "    # Check for final model\n",
        "    if os.path.exists(f\"{result_dir}/final.pt\"):\n",
        "        size = os.path.getsize(f\"{result_dir}/final.pt\") / (1024*1024)\n",
        "        print(f\"✅ Final model: {size:.1f} MB\")\n",
        "\n",
        "    if os.path.exists(f\"{result_dir}/final.ply\"):\n",
        "        size = os.path.getsize(f\"{result_dir}/final.ply\") / (1024*1024)\n",
        "        print(f\"✅ Final PLY: {size:.1f} MB\")\n",
        "\n",
        "    print(f\"\\n📁 Full results at: {result_dir}\")\n",
        "else:\n",
        "    print(\"❌ Results directory not found!\")\n",
        "\n",
        "print(\"=\" * 60)"
      ],
      "metadata": {
        "id": "ze1ncVbZuO8M"
      },
      "execution_count": null,
      "outputs": []
    },
    {
      "cell_type": "code",
      "source": [
        "# ============================================================\n",
        "# CELL 5: Download Results\n",
        "# ============================================================\n",
        "from google.colab import files\n",
        "\n",
        "# Download final PLY file for viewing\n",
        "ply_path = \"/content/GaussianSplatting/results/lantern_spectral_30k/final.ply\"\n",
        "\n",
        "if os.path.exists(ply_path):\n",
        "    print(f\"📥 Downloading: {ply_path}\")\n",
        "    files.download(ply_path)\n",
        "    print(\"✅ Download complete!\")\n",
        "else:\n",
        "    print(f\"❌ PLY file not found at: {ply_path}\")\n",
        "    print(\"\\nAvailable files:\")\n",
        "    !ls -lh /content/GaussianSplatting/results/lantern_spectral_30k/"
      ],
      "metadata": {
        "id": "nJJaVD38uQ0a"
      },
      "execution_count": null,
      "outputs": []
    },
    {
      "cell_type": "code",
      "source": [
        "# ============================================================\n",
        "# CELL 6: Backup to Google Drive (RECOMMENDED)\n",
        "# ============================================================\n",
        "from google.colab import drive\n",
        "\n",
        "# Mount Drive if not already mounted\n",
        "drive.mount('/content/drive')\n",
        "\n",
        "BACKUP_DIR = \"/content/drive/MyDrive/GaussianSplatting_Backup\"\n",
        "SOURCE_DIR = \"/content/GaussianSplatting/results\"\n",
        "\n",
        "print(\"💾 Backing up results to Google Drive...\")\n",
        "!mkdir -p {BACKUP_DIR}\n",
        "!rsync -av --progress {SOURCE_DIR}/ {BACKUP_DIR}/results/\n",
        "\n",
        "print(\"\\n✅ Backup complete!\")\n",
        "print(f\"📁 Saved to: {BACKUP_DIR}/results/\")"
      ],
      "metadata": {
        "id": "Pzup-zRyuSt6"
      },
      "execution_count": null,
      "outputs": []
    },
    {
      "cell_type": "code",
      "source": [],
      "metadata": {
        "id": "whZuWlvbuVA2"
      },
      "execution_count": null,
      "outputs": []
    }
  ]
}