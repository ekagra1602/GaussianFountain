{
  "cells": [
    {
      "cell_type": "markdown",
      "metadata": {
        "id": "2Rs5GxZCQxZd"
      },
      "source": [
        "### **Gaussian Splatting for Hayden Library Lantern**"
      ]
    },
    {
      "cell_type": "code",
      "execution_count": null,
      "metadata": {
        "id": "2l90EMQGtBnj"
      },
      "outputs": [],
      "source": [
        "!git clone https://github.com/ekagra1602/GaussianSplatting\n",
        "%cd GaussianSplatting"
      ]
    },
    {
      "cell_type": "code",
      "execution_count": null,
      "metadata": {
        "id": "Y6k7WeHdN-7-"
      },
      "outputs": [],
      "source": [
        "!pip install -r requirements.txt\n",
        "!apt-get -qq update && apt-get -qq install -y ffmpeg"
      ]
    },
    {
      "cell_type": "markdown",
      "metadata": {
        "id": "R2qR3D8esnCR"
      },
      "source": [
        "**Prep Dataset**"
      ]
    },
    {
      "cell_type": "code",
      "execution_count": null,
      "metadata": {
        "id": "78xjg5plOBsv"
      },
      "outputs": [],
      "source": [
        "!python scripts/dataset_prep.py \\\n",
        "  --video /content/ASU_Lantern_Orbit.mp4 \\\n",
        "  --out lantern_ds \\\n",
        "  --target_frames 150 \\\n",
        "  --min_sharpness 80 \\\n",
        "  --width 1600"
      ]
    },
    {
      "cell_type": "markdown",
      "metadata": {
        "id": "w3Dz-bZ8sqYG"
      },
      "source": [
        "**Run VGGT to predict camera poses, depth, and geometry**"
      ]
    },
    {
      "cell_type": "code",
      "execution_count": null,
      "metadata": {
        "id": "ePS7ACc3KRrd"
      },
      "outputs": [],
      "source": [
        "!git clone https://github.com/facebookresearch/vggt.git /content/vggt"
      ]
    },
    {
      "cell_type": "code",
      "execution_count": null,
      "metadata": {
        "id": "4SqWOqO8NkUr"
      },
      "outputs": [],
      "source": [
        "%cd /content/vggt"
      ]
    },
    {
      "cell_type": "code",
      "execution_count": null,
      "metadata": {
        "id": "BYwzPRhUceY_"
      },
      "outputs": [],
      "source": [
        "!python -c \"import vggt; print('VGGT installed!')\""
      ]
    },
    {
      "cell_type": "code",
      "execution_count": null,
      "metadata": {
        "id": "0UTrb20-d8-d"
      },
      "outputs": [],
      "source": [
        "pip install hydra-core omegaconf"
      ]
    },
    {
      "cell_type": "code",
      "execution_count": null,
      "metadata": {
        "id": "q-rHoPUPfWBe"
      },
      "outputs": [],
      "source": [
        "!mkdir -p /content/GaussianSplatting/lantern_ds/images_full_backup\n",
        "!cp /content/GaussianSplatting/lantern_ds/images/*.jpg /content/GaussianSplatting/lantern_ds/images_full_backup/\n",
        "!echo \"Backup complete. Original images saved.\""
      ]
    },
    {
      "cell_type": "code",
      "execution_count": null,
      "metadata": {
        "id": "KAZWQpzagM6P"
      },
      "outputs": [],
      "source": [
        "import os\n",
        "import glob\n",
        "\n",
        "# Get all images sorted\n",
        "image_dir = \"/content/GaussianSplatting/lantern_ds/images\"\n",
        "images = sorted(glob.glob(f\"{image_dir}/*.jpg\"))\n",
        "\n",
        "print(f\"Total images: {len(images)}\")\n",
        "\n",
        "# Keep every 2nd image, delete the rest\n",
        "for i, img_path in enumerate(images):\n",
        "    if i % 2 == 1:  # Delete odd indices (keep even: 0, 2, 4, 6...)\n",
        "        os.remove(img_path)\n",
        "\n",
        "# Check remaining count\n",
        "remaining = sorted(glob.glob(f\"{image_dir}/*.jpg\"))\n",
        "print(f\"Remaining images: {len(remaining)}\")"
      ]
    },
    {
      "cell_type": "code",
      "execution_count": null,
      "metadata": {
        "id": "Nhbaq6vzien3"
      },
      "outputs": [],
      "source": [
        "!pip uninstall pycolmap -y\n",
        "!pip install pycolmap==3.10.0"
      ]
    },
    {
      "cell_type": "code",
      "execution_count": null,
      "metadata": {
        "id": "edbJVEUgcriD"
      },
      "outputs": [],
      "source": [
        "!python demo_colmap.py --scene_dir=/content/GaussianSplatting/lantern_ds"
      ]
    },
    {
      "cell_type": "code",
      "execution_count": null,
      "metadata": {
        "id": "C6gX7vk3jzjU"
      },
      "outputs": [],
      "source": [
        "!ls -lh /content/GaussianSplatting/lantern_ds/sparse/"
      ]
    },
    {
      "cell_type": "markdown",
      "metadata": {
        "id": "as1nP7-_sckm"
      },
      "source": [
        "## **Restore and Backup Session**"
      ]
    },
    {
      "cell_type": "code",
      "execution_count": null,
      "metadata": {
        "colab": {
          "base_uri": "https://localhost:8080/"
        },
        "id": "li4m1zIvlwaR",
        "outputId": "98d4593f-bec3-4bf8-d176-0b6ba4a34f8d"
      },
      "outputs": [
        {
          "name": "stdout",
          "output_type": "stream",
          "text": [
            "🔄 Restoring session...\n",
            "Mounted at /content/drive\n",
            "📥 Cloning repository (first time)...\n",
            "Cloning into 'GaussianSplatting'...\n",
            "remote: Enumerating objects: 102, done.\u001b[K\n",
            "remote: Counting objects: 100% (102/102), done.\u001b[K\n",
            "remote: Compressing objects: 100% (57/57), done.\u001b[K\n",
            "remote: Total 102 (delta 38), reused 100 (delta 36), pack-reused 0 (from 0)\u001b[K\n",
            "Receiving objects: 100% (102/102), 25.22 KiB | 12.61 MiB/s, done.\n",
            "Resolving deltas: 100% (38/38), done.\n",
            "/content/GaussianSplatting\n",
            "📦 Restoring lantern_ds dataset...\n",
            "✅ Dataset restored from Drive\n",
            "📚 Installing dependencies...\n",
            "\u001b[2K   \u001b[90m━━━━━━━━━━━━━━━━━━━━━━━━━━━━━━━━━━━━━━━━\u001b[0m \u001b[32m11.2/11.2 MB\u001b[0m \u001b[31m39.4 MB/s\u001b[0m eta \u001b[36m0:00:00\u001b[0m\n",
            "\u001b[2K   \u001b[90m━━━━━━━━━━━━━━━━━━━━━━━━━━━━━━━━━━━━━━━━\u001b[0m \u001b[32m154.5/154.5 kB\u001b[0m \u001b[31m16.2 MB/s\u001b[0m eta \u001b[36m0:00:00\u001b[0m\n",
            "\u001b[?25h\n",
            "🔍 Verification:\n",
            "  ✅ Repository\n",
            "  ✅ lantern_ds\n",
            "  ✅ images\n",
            "  ✅ sparse\n",
            "  ✅ COLMAP files\n",
            "\n",
            "📁 Sparse folder contains: ['images.bin', 'points.ply', 'points3D.bin', 'cameras.bin']\n",
            "\n",
            "📂 Working directory: /content/GaussianSplatting\n",
            "\n",
            "🚀 Session fully restored! Ready to continue.\n"
          ]
        }
      ],
      "source": [
        "# restore_session.py - Start of every new session\n",
        "import os\n",
        "from google.colab import drive\n",
        "\n",
        "print(\"🔄 Restoring session...\")\n",
        "\n",
        "# 1. Mount Google Drive\n",
        "drive.mount('/content/drive')\n",
        "\n",
        "# 2. Smart repo handling\n",
        "REPO_URL = \"https://github.com/ekagra1602/GaussianSplatting\"\n",
        "REPO_DIR = \"/content/GaussianSplatting\"\n",
        "\n",
        "if not os.path.exists(REPO_DIR):\n",
        "    print(\"📥 Cloning repository (first time)...\")\n",
        "    !git clone {REPO_URL}\n",
        "else:\n",
        "    print(\"✅ Repository exists, pulling latest changes...\")\n",
        "    %cd {REPO_DIR}\n",
        "    !git pull origin main || echo \"⚠️  Pull failed (maybe no internet or no changes)\"\n",
        "\n",
        "%cd {REPO_DIR}\n",
        "\n",
        "# 3. Restore dataset from Google Drive backup\n",
        "print(\"📦 Restoring lantern_ds dataset...\")\n",
        "if os.path.exists('/content/drive/MyDrive/GaussianSplatting_Backup/lantern_ds'):\n",
        "    !cp -r /content/drive/MyDrive/GaussianSplatting_Backup/lantern_ds {REPO_DIR}/\n",
        "    print(\"✅ Dataset restored from Drive\")\n",
        "else:\n",
        "    print(\"❌ Backup not found in Drive! Check your backup location.\")\n",
        "\n",
        "# 4. Reinstall dependencies\n",
        "print(\"📚 Installing dependencies...\")\n",
        "!pip install -q hydra-core omegaconf pycolmap==3.10.0\n",
        "\n",
        "# 5. Comprehensive verification\n",
        "print(\"\\n🔍 Verification:\")\n",
        "checks = {\n",
        "    \"Repository\": os.path.exists(REPO_DIR),\n",
        "    \"lantern_ds\": os.path.exists(f\"{REPO_DIR}/lantern_ds\"),\n",
        "    \"images\": os.path.exists(f\"{REPO_DIR}/lantern_ds/images\"),\n",
        "    \"sparse\": os.path.exists(f\"{REPO_DIR}/lantern_ds/sparse\"),\n",
        "    \"COLMAP files\": os.path.exists(f\"{REPO_DIR}/lantern_ds/sparse/cameras.bin\")\n",
        "}\n",
        "\n",
        "for item, exists in checks.items():\n",
        "    status = \"✅\" if exists else \"❌\"\n",
        "    print(f\"  {status} {item}\")\n",
        "\n",
        "if checks[\"sparse\"]:\n",
        "    sparse_files = os.listdir(f\"{REPO_DIR}/lantern_ds/sparse/\")\n",
        "    print(f\"\\n📁 Sparse folder contains: {sparse_files}\")\n",
        "\n",
        "print(f\"\\n📂 Working directory: {os.getcwd()}\")\n",
        "print(\"\\n🚀 Session fully restored! Ready to continue.\")"
      ]
    },
    {
      "cell_type": "code",
      "execution_count": null,
      "metadata": {
        "id": "ISbQBam7oBax"
      },
      "outputs": [],
      "source": [
        "# 💾 BACKUP CELL\n",
        "from google.colab import drive\n",
        "import os\n",
        "\n",
        "# Mount Drive (safe to run multiple times)\n",
        "drive.mount('/content/drive')\n",
        "\n",
        "WORK_DIR = \"/content/GaussianSplatting/lantern_ds\"\n",
        "BACKUP_DIR = \"/content/drive/MyDrive/GaussianSplatting_Backup\"\n",
        "\n",
        "print(\"💾 Starting backup...\")\n",
        "\n",
        "# Create backup directory\n",
        "!mkdir -p {BACKUP_DIR}\n",
        "\n",
        "# Sync with progress\n",
        "!rsync -av --progress {WORK_DIR}/ {BACKUP_DIR}/lantern_ds/\n",
        "\n",
        "# Show what was backed up\n",
        "print(\"\\n📊 Backup Summary:\")\n",
        "!du -sh {BACKUP_DIR}/lantern_ds/\n",
        "print(f\"📁 Backed up to: {BACKUP_DIR}/lantern_ds/\")\n",
        "\n",
        "# List major folders\n",
        "print(\"\\n📂 Backed up folders:\")\n",
        "for folder in ['images', 'sparse', 'outputs', 'checkpoints']:\n",
        "    folder_path = f\"{BACKUP_DIR}/lantern_ds/{folder}\"\n",
        "    if os.path.exists(folder_path):\n",
        "        size = !du -sh {folder_path} | cut -f1\n",
        "        print(f\"  ✅ {folder}: {size[0]}\")\n",
        "    else:\n",
        "        print(f\"  ⚪ {folder}: (not yet created)\")\n",
        "\n",
        "print(\"\\n✅ Backup complete! Safe to disconnect.\")"
      ]
    },
    {
      "cell_type": "markdown",
      "metadata": {
        "id": "nrcnfH4etPyH"
      },
      "source": [
        "# **Run Gaussian Spplatting on output from VGGT**"
      ]
    },
    {
      "cell_type": "code",
      "execution_count": null,
      "metadata": {
        "id": "JSIKgkN7tW-O"
      },
      "outputs": [],
      "source": [
        "# Install gsplat (recommended version from VGGT docs)\n",
        "!pip install gsplat==1.3.0\n",
        "\n",
        "# Install additional dependencies\n",
        "!pip install \\\n",
        "  opencv-python \\\n",
        "  pillow \\\n",
        "  tqdm \\\n",
        "  lpips \\\n",
        "  trimesh \\\n",
        "  plyfile\n",
        "\n",
        "print(\"✅ gsplat installed!\")"
      ]
    },
    {
      "cell_type": "code",
      "execution_count": null,
      "metadata": {
        "id": "J5-Rtdobtkfj"
      },
      "outputs": [],
      "source": [
        "# Clone gsplat repo to get example training scripts\n",
        "%cd /content\n",
        "!git clone https://github.com/nerfstudio-project/gsplat.git\n",
        "%cd gsplat\n",
        "\n",
        "# Install example requirements\n",
        "!pip install -r examples/requirements.txt\n",
        "\n",
        "print(\"✅ gsplat repo cloned!\")"
      ]
    },
    {
      "cell_type": "code",
      "execution_count": null,
      "metadata": {
        "colab": {
          "base_uri": "https://localhost:8080/"
        },
        "id": "S9J1amfYv8Mm",
        "outputId": "2e0421b0-1bd2-46f3-f4c0-a31714eb01fd"
      },
      "outputs": [
        {
          "name": "stdout",
          "output_type": "stream",
          "text": [
            "Moved: images.bin → sparse/0/images.bin\n",
            "Moved: points.ply → sparse/0/points.ply\n",
            "Moved: points3D.bin → sparse/0/points3D.bin\n",
            "Moved: cameras.bin → sparse/0/cameras.bin\n",
            "\n",
            "✅ Dataset structure fixed!\n"
          ]
        }
      ],
      "source": [
        "import os\n",
        "import shutil\n",
        "\n",
        "# Create the 0 subdirectory\n",
        "sparse_dir = \"/content/GaussianSplatting/lantern_ds/sparse\"\n",
        "sparse_0_dir = f\"{sparse_dir}/0\"\n",
        "\n",
        "os.makedirs(sparse_0_dir, exist_ok=True)\n",
        "\n",
        "# Move all .bin and .ply files into 0/\n",
        "for file in os.listdir(sparse_dir):\n",
        "    if file.endswith(('.bin', '.ply')):\n",
        "        src = f\"{sparse_dir}/{file}\"\n",
        "        dst = f\"{sparse_0_dir}/{file}\"\n",
        "        shutil.move(src, dst)\n",
        "        print(f\"Moved: {file} → sparse/0/{file}\")\n",
        "\n",
        "print(\"\\n✅ Dataset structure fixed!\")"
      ]
    },
    {
      "cell_type": "code",
      "execution_count": null,
      "metadata": {
        "colab": {
          "base_uri": "https://localhost:8080/"
        },
        "id": "jRfR-aNVvgn9",
        "outputId": "5db8fb87-c868-4e84-bf1b-33d3c3cc56f9"
      },
      "outputs": [
        {
          "name": "stdout",
          "output_type": "stream",
          "text": [
            "=== Checking dataset structure ===\n",
            "total 24K\n",
            "drwx------ 2 root root 4.0K Oct  5 23:23 frames_raw\n",
            "drwx------ 2 root root 4.0K Oct  5 23:24 images\n",
            "drwx------ 2 root root 4.0K Oct  5 23:23 images_full\n",
            "drwx------ 2 root root 4.0K Oct  5 23:23 images_full_backup\n",
            "drwx------ 3 root root 4.0K Oct  5 23:40 sparse\n",
            "drwx------ 2 root root 4.0K Oct  5 23:23 splits\n",
            "\n",
            "total 9.5M\n",
            "-rw------- 1 root root 4.2K Oct  5 23:24 cameras.bin\n",
            "-rw------- 1 root root 2.3M Oct  5 23:24 images.bin\n",
            "-rw------- 1 root root 5.7M Oct  5 23:24 points3D.bin\n",
            "-rw------- 1 root root 1.6M Oct  5 23:24 points.ply\n",
            "\n",
            "frame_00001.jpg\n",
            "frame_00003.jpg\n",
            "frame_00005.jpg\n",
            "frame_00007.jpg\n",
            "frame_00009.jpg\n"
          ]
        }
      ],
      "source": [
        "!echo \"=== Checking dataset structure ===\"\n",
        "!ls -lh /content/GaussianSplatting/lantern_ds/\n",
        "!echo \"\"\n",
        "!ls -lh /content/GaussianSplatting/lantern_ds/sparse/0/\n",
        "!echo \"\"\n",
        "!ls /content/GaussianSplatting/lantern_ds/images/ | head -5"
      ]
    },
    {
      "cell_type": "code",
      "execution_count": null,
      "metadata": {
        "colab": {
          "base_uri": "https://localhost:8080/"
        },
        "id": "tupwZDxIwPFU",
        "outputId": "666ee913-2b5d-4c6c-d22f-01f03f5e3ea8"
      },
      "outputs": [
        {
          "name": "stdout",
          "output_type": "stream",
          "text": [
            "Created __init__.py in datasets/\n"
          ]
        }
      ],
      "source": [
        "# Create the missing __init__.py\n",
        "!touch /content/gsplat/examples/datasets/__init__.py\n",
        "\n",
        "print(\"Created __init__.py in datasets/\")"
      ]
    },
    {
      "cell_type": "code",
      "execution_count": null,
      "metadata": {
        "id": "WIR22JApxIvJ"
      },
      "outputs": [],
      "source": [
        "# Uninstall old version\n",
        "!pip uninstall -y gsplat\n",
        "\n",
        "# Install latest version\n",
        "!pip install gsplat\n",
        "\n",
        "print(\"✅ gsplat upgraded to latest version\")"
      ]
    },
    {
      "cell_type": "code",
      "execution_count": null,
      "metadata": {
        "id": "L2_YFtmsw7VO"
      },
      "outputs": [],
      "source": [
        "%cd /content/gsplat/examples\n",
        "\n",
        "!python simple_trainer.py default \\\n",
        "  --data_dir /content/GaussianSplatting/lantern_ds \\\n",
        "  --result_dir /content/GaussianSplatting/results/lantern_baseline \\\n",
        "  --data_factor 1 \\\n",
        "  --max_steps 10000 \\\n",
        "  --save_ply"
      ]
    },
    {
      "cell_type": "code",
      "execution_count": null,
      "metadata": {
        "colab": {
          "base_uri": "https://localhost:8080/"
        },
        "id": "EGy9FQGnywOp",
        "outputId": "c372c416-2f9d-4214-f43e-9ea4c08233de"
      },
      "outputs": [
        {
          "name": "stdout",
          "output_type": "stream",
          "text": [
            "=== PLY Files ===\n",
            "total 266M\n",
            "-rw-r--r-- 1 root root 126M Oct  5 23:50 point_cloud_6999.ply\n",
            "-rw-r--r-- 1 root root 140M Oct  5 23:51 point_cloud_9999.ply\n",
            "\n",
            "=== Rendered Videos ===\n",
            "total 484K\n",
            "-rw-r--r-- 1 root root 484K Oct  5 23:50 traj_6999.mp4\n"
          ]
        }
      ],
      "source": [
        "!echo \"=== PLY Files ===\"\n",
        "!ls -lh /content/GaussianSplatting/results/lantern_baseline/ply/\n",
        "\n",
        "!echo \"\"\n",
        "!echo \"=== Rendered Videos ===\"\n",
        "!ls -lh /content/GaussianSplatting/results/lantern_baseline/videos/"
      ]
    },
    {
      "cell_type": "code",
      "execution_count": null,
      "metadata": {
        "colab": {
          "base_uri": "https://localhost:8080/",
          "height": 17
        },
        "id": "IwDsoYvCzEZe",
        "outputId": "9657510e-3ff0-42f2-81ad-2d091e793f08"
      },
      "outputs": [
        {
          "data": {
            "application/javascript": "\n    async function download(id, filename, size) {\n      if (!google.colab.kernel.accessAllowed) {\n        return;\n      }\n      const div = document.createElement('div');\n      const label = document.createElement('label');\n      label.textContent = `Downloading \"${filename}\": `;\n      div.appendChild(label);\n      const progress = document.createElement('progress');\n      progress.max = size;\n      div.appendChild(progress);\n      document.body.appendChild(div);\n\n      const buffers = [];\n      let downloaded = 0;\n\n      const channel = await google.colab.kernel.comms.open(id);\n      // Send a message to notify the kernel that we're ready.\n      channel.send({})\n\n      for await (const message of channel.messages) {\n        // Send a message to notify the kernel that we're ready.\n        channel.send({})\n        if (message.buffers) {\n          for (const buffer of message.buffers) {\n            buffers.push(buffer);\n            downloaded += buffer.byteLength;\n            progress.value = downloaded;\n          }\n        }\n      }\n      const blob = new Blob(buffers, {type: 'application/binary'});\n      const a = document.createElement('a');\n      a.href = window.URL.createObjectURL(blob);\n      a.download = filename;\n      div.appendChild(a);\n      a.click();\n      div.remove();\n    }\n  ",
            "text/plain": [
              "<IPython.core.display.Javascript object>"
            ]
          },
          "metadata": {},
          "output_type": "display_data"
        },
        {
          "data": {
            "application/javascript": "download(\"download_eecff355-ca51-445f-a2f9-16b8ebd78baf\", \"point_cloud_29999.ply\", 78788189)",
            "text/plain": [
              "<IPython.core.display.Javascript object>"
            ]
          },
          "metadata": {},
          "output_type": "display_data"
        }
      ],
      "source": [
        "#Download PLY File\n",
        "from google.colab import files\n",
        "files.download(\"/content/GaussianSplatting/results/lantern_30k_v2/ply/point_cloud_29999.ply\")"
      ]
    },
    {
      "cell_type": "code",
      "execution_count": null,
      "metadata": {
        "id": "AfBoMEDV6saE"
      },
      "outputs": [],
      "source": [
        "%cd /content/gsplat\n",
        "\n",
        "!python examples/simple_trainer.py default \\\n",
        "  --data-dir /content/GaussianSplatting/lantern_ds \\\n",
        "  --result-dir /content/GaussianSplatting/results/lantern_30k_v2 \\\n",
        "  --data-factor 1 \\\n",
        "  --max-steps 30000 \\\n",
        "  --save-ply \\\n",
        "  --opacity-reg 0.02 \\\n",
        "  --scale-reg 0.02 \\\n",
        "  --random-bkgd \\\n",
        "  --disable-viewer \\\n",
        "  --strategy.prune-opa 0.01 \\\n",
        "  --strategy.prune-scale3d 0.05"
      ]
    },
    {
      "cell_type": "code",
      "execution_count": null,
      "metadata": {
        "id": "Ntt19jse6572"
      },
      "outputs": [],
      "source": [
        "%cd /content/gsplat\n",
        "\n",
        "# See parameters for the 'default' config\n",
        "!python examples/simple_trainer.py default --help"
      ]
    }
  ],
  "metadata": {
    "accelerator": "GPU",
    "colab": {
      "gpuType": "A100",
      "provenance": []
    },
    "kernelspec": {
      "display_name": "Python 3",
      "name": "python3"
    },
    "language_info": {
      "name": "python"
    }
  },
  "nbformat": 4,
  "nbformat_minor": 0
}
